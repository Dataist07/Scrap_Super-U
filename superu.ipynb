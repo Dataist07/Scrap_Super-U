{
 "cells": [
  {
   "cell_type": "code",
   "execution_count": 25,
   "metadata": {},
   "outputs": [],
   "source": [
    "import undetected_chromedriver as uc\n",
    "import pickle\n",
    "import pandas as pd\n",
    "\n",
    "from selenium import webdriver\n",
    "from selenium.webdriver.support.wait import WebDriverWait\n",
    "from selenium.webdriver.support import expected_conditions as EC\n",
    "\n",
    "from selenium.webdriver.common.keys import Keys\n",
    "from selenium.webdriver.common.by import By\n",
    "from selenium.webdriver.chrome.options import Options\n",
    "from selenium.webdriver.chrome.service import Service\n",
    "import time\n"
   ]
  },
  {
   "attachments": {},
   "cell_type": "markdown",
   "metadata": {},
   "source": [
    "Acceder drive"
   ]
  },
  {
   "cell_type": "code",
   "execution_count": 26,
   "metadata": {},
   "outputs": [],
   "source": [
    "def search_location(driver,location):\n",
    "    driver.get('https://www.coursesu.com/')\n",
    "    time.sleep(3)\n",
    "    driver.maximize_window()\n",
    "    time.sleep(3)\n",
    "\n",
    "    cookies = pickle.load(open(\"cookies_u.pkl\", \"rb\"))\n",
    "\n",
    "    for cookie in cookies: \n",
    "\n",
    "        try :\n",
    "            driver.add_cookie(cookie)\n",
    "        except Exception as e:\n",
    "            print(e)\n",
    "\n",
    "    time.sleep(3)\n",
    "    driver.get('https://www.coursesu.com/')\n",
    "    time.sleep(3)\n",
    "\n",
    "    \n",
    "    try:\n",
    "        button = WebDriverWait(driver, 10).until(\n",
    "            EC.presence_of_element_located((By.CSS_SELECTOR, '#popin_tc_privacy_button_2'))\n",
    "        )\n",
    "        button.click()\n",
    "        print(\"a\")\n",
    "        time.sleep(3)\n",
    "\n",
    "        location = WebDriverWait(driver, 10).until(\n",
    "            EC.presence_of_element_located((By.XPATH, '//*[@id=\"store-search\"]'))\n",
    "        )\n",
    "        location.click()\n",
    "        time.sleep(3)\n",
    "\n",
    "        for i in len(location):\n",
    "            location.send_keys(location[i])\n",
    "            time.sleep(2)\n",
    "\n",
    "        location.send_keys(Keys.RETURN)\n",
    "        time.sleep(3)\n",
    "\n",
    "        choisir_drive = WebDriverWait(driver, 10).until(\n",
    "            EC.presence_of_element_located((By.XPATH, '//*[@id=\"25942\"]/div[3]/div/a'))\n",
    "        )\n",
    "        choisir_drive.click()\n",
    "        time.sleep(3)\n",
    "\n",
    "        close = WebDriverWait(driver, 10).until(\n",
    "            EC.presence_of_element_located((By.XPATH, '/html/body/div[8]/div[1]/button/span[2]'))\n",
    "        )\n",
    "        close.click()\n",
    "        time.sleep(3)\n",
    "    except:\n",
    "        pass  \n"
   ]
  },
  {
   "cell_type": "code",
   "execution_count": 27,
   "metadata": {},
   "outputs": [
    {
     "name": "stdout",
     "output_type": "stream",
     "text": [
      "a\n"
     ]
    }
   ],
   "source": [
    "\n",
    "if __name__ == '__main__':\n",
    "    options = Options()\n",
    "    options.add_experimental_option('detach', True)\n",
    "\n",
    "    driver = uc.Chrome() \n",
    "    location = 'tourcoing'\n",
    "    search_location(driver,location)\n",
    "\n",
    "    "
   ]
  }
 ],
 "metadata": {
  "kernelspec": {
   "display_name": "base",
   "language": "python",
   "name": "python3"
  },
  "language_info": {
   "codemirror_mode": {
    "name": "ipython",
    "version": 3
   },
   "file_extension": ".py",
   "mimetype": "text/x-python",
   "name": "python",
   "nbconvert_exporter": "python",
   "pygments_lexer": "ipython3",
   "version": "3.9.12"
  },
  "orig_nbformat": 4
 },
 "nbformat": 4,
 "nbformat_minor": 2
}
